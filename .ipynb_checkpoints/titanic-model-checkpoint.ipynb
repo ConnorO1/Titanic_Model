{
 "cells": [
  {
   "cell_type": "code",
   "execution_count": 1,
   "metadata": {
    "_cell_guid": "b1076dfc-b9ad-4769-8c92-a6c4dae69d19",
    "_uuid": "8f2839f25d086af736a60e9eeb907d3b93b6e0e5",
    "execution": {
     "iopub.execute_input": "2021-06-06T13:15:25.023649Z",
     "iopub.status.busy": "2021-06-06T13:15:25.023255Z",
     "iopub.status.idle": "2021-06-06T13:15:25.035141Z",
     "shell.execute_reply": "2021-06-06T13:15:25.033331Z",
     "shell.execute_reply.started": "2021-06-06T13:15:25.023613Z"
    }
   },
   "outputs": [],
   "source": [
    "import numpy as np # linear algebra\n",
    "import pandas as pd # data processing, CSV file I/O (e.g. pd.read_csv)"
   ]
  },
  {
   "cell_type": "markdown",
   "metadata": {},
   "source": [
    "## Set up\n",
    "\n",
    "- Load in data\n",
    "- Concatenate the test and training data to make preprocessing simpler (only done as this is a competition)"
   ]
  },
  {
   "cell_type": "code",
   "execution_count": 2,
   "metadata": {
    "execution": {
     "iopub.execute_input": "2021-06-06T13:15:25.037291Z",
     "iopub.status.busy": "2021-06-06T13:15:25.036824Z",
     "iopub.status.idle": "2021-06-06T13:15:25.217667Z",
     "shell.execute_reply": "2021-06-06T13:15:25.216636Z",
     "shell.execute_reply.started": "2021-06-06T13:15:25.037247Z"
    }
   },
   "outputs": [
    {
     "data": {
      "text/html": [
       "<div>\n",
       "<style scoped>\n",
       "    .dataframe tbody tr th:only-of-type {\n",
       "        vertical-align: middle;\n",
       "    }\n",
       "\n",
       "    .dataframe tbody tr th {\n",
       "        vertical-align: top;\n",
       "    }\n",
       "\n",
       "    .dataframe thead th {\n",
       "        text-align: right;\n",
       "    }\n",
       "</style>\n",
       "<table border=\"1\" class=\"dataframe\">\n",
       "  <thead>\n",
       "    <tr style=\"text-align: right;\">\n",
       "      <th></th>\n",
       "      <th>PassengerId</th>\n",
       "      <th>Survived</th>\n",
       "      <th>Pclass</th>\n",
       "      <th>Name</th>\n",
       "      <th>Sex</th>\n",
       "      <th>Age</th>\n",
       "      <th>SibSp</th>\n",
       "      <th>Parch</th>\n",
       "      <th>Ticket</th>\n",
       "      <th>Fare</th>\n",
       "      <th>Cabin</th>\n",
       "      <th>Embarked</th>\n",
       "      <th>train_sets</th>\n",
       "    </tr>\n",
       "  </thead>\n",
       "  <tbody>\n",
       "    <tr>\n",
       "      <th>413</th>\n",
       "      <td>1305</td>\n",
       "      <td>NaN</td>\n",
       "      <td>3</td>\n",
       "      <td>Spector, Mr. Woolf</td>\n",
       "      <td>male</td>\n",
       "      <td>NaN</td>\n",
       "      <td>0</td>\n",
       "      <td>0</td>\n",
       "      <td>A.5. 3236</td>\n",
       "      <td>8.0500</td>\n",
       "      <td>NaN</td>\n",
       "      <td>S</td>\n",
       "      <td>0</td>\n",
       "    </tr>\n",
       "    <tr>\n",
       "      <th>414</th>\n",
       "      <td>1306</td>\n",
       "      <td>NaN</td>\n",
       "      <td>1</td>\n",
       "      <td>Oliva y Ocana, Dona. Fermina</td>\n",
       "      <td>female</td>\n",
       "      <td>39.0</td>\n",
       "      <td>0</td>\n",
       "      <td>0</td>\n",
       "      <td>PC 17758</td>\n",
       "      <td>108.9000</td>\n",
       "      <td>C105</td>\n",
       "      <td>C</td>\n",
       "      <td>0</td>\n",
       "    </tr>\n",
       "    <tr>\n",
       "      <th>415</th>\n",
       "      <td>1307</td>\n",
       "      <td>NaN</td>\n",
       "      <td>3</td>\n",
       "      <td>Saether, Mr. Simon Sivertsen</td>\n",
       "      <td>male</td>\n",
       "      <td>38.5</td>\n",
       "      <td>0</td>\n",
       "      <td>0</td>\n",
       "      <td>SOTON/O.Q. 3101262</td>\n",
       "      <td>7.2500</td>\n",
       "      <td>NaN</td>\n",
       "      <td>S</td>\n",
       "      <td>0</td>\n",
       "    </tr>\n",
       "    <tr>\n",
       "      <th>416</th>\n",
       "      <td>1308</td>\n",
       "      <td>NaN</td>\n",
       "      <td>3</td>\n",
       "      <td>Ware, Mr. Frederick</td>\n",
       "      <td>male</td>\n",
       "      <td>NaN</td>\n",
       "      <td>0</td>\n",
       "      <td>0</td>\n",
       "      <td>359309</td>\n",
       "      <td>8.0500</td>\n",
       "      <td>NaN</td>\n",
       "      <td>S</td>\n",
       "      <td>0</td>\n",
       "    </tr>\n",
       "    <tr>\n",
       "      <th>417</th>\n",
       "      <td>1309</td>\n",
       "      <td>NaN</td>\n",
       "      <td>3</td>\n",
       "      <td>Peter, Master. Michael J</td>\n",
       "      <td>male</td>\n",
       "      <td>NaN</td>\n",
       "      <td>1</td>\n",
       "      <td>1</td>\n",
       "      <td>2668</td>\n",
       "      <td>22.3583</td>\n",
       "      <td>NaN</td>\n",
       "      <td>C</td>\n",
       "      <td>0</td>\n",
       "    </tr>\n",
       "  </tbody>\n",
       "</table>\n",
       "</div>"
      ],
      "text/plain": [
       "     PassengerId  Survived  Pclass                          Name     Sex  \\\n",
       "413         1305       NaN       3            Spector, Mr. Woolf    male   \n",
       "414         1306       NaN       1  Oliva y Ocana, Dona. Fermina  female   \n",
       "415         1307       NaN       3  Saether, Mr. Simon Sivertsen    male   \n",
       "416         1308       NaN       3           Ware, Mr. Frederick    male   \n",
       "417         1309       NaN       3      Peter, Master. Michael J    male   \n",
       "\n",
       "      Age  SibSp  Parch              Ticket      Fare Cabin Embarked  \\\n",
       "413   NaN      0      0           A.5. 3236    8.0500   NaN        S   \n",
       "414  39.0      0      0            PC 17758  108.9000  C105        C   \n",
       "415  38.5      0      0  SOTON/O.Q. 3101262    7.2500   NaN        S   \n",
       "416   NaN      0      0              359309    8.0500   NaN        S   \n",
       "417   NaN      1      1                2668   22.3583   NaN        C   \n",
       "\n",
       "     train_sets  \n",
       "413           0  \n",
       "414           0  \n",
       "415           0  \n",
       "416           0  \n",
       "417           0  "
      ]
     },
     "execution_count": 2,
     "metadata": {},
     "output_type": "execute_result"
    }
   ],
   "source": [
    "import pandas as pd\n",
    "import numpy as np\n",
    "import matplotlib.pyplot as plt\n",
    "import seaborn as sns\n",
    "sns.set()\n",
    "\n",
    "train_data = pd.read_csv('train.csv')\n",
    "test_data = pd.read_csv('test.csv')\n",
    "\n",
    "\n",
    "# Concatinate for data processing later\n",
    "train_data['train_sets'] = 1\n",
    "test_data['train_sets'] = 0\n",
    "test_data['Survived'] = np.NaN\n",
    "\n",
    "\n",
    "data = pd.concat([train_data, test_data])\n",
    "data.tail()"
   ]
  },
  {
   "cell_type": "markdown",
   "metadata": {},
   "source": [
    "## Data Reference\n",
    "\n",
    "- Survival -> 0 = No, 1 = Yes\n",
    "- pclass (Ticket class) -> 1 = 1st, 2 = 2nd, 3 = 3rd\n",
    "- sex\n",
    "- Age = Age in years\n",
    "- sibsp = # of siblings / spouses aboard the Titanic\n",
    "- parch = # of parents / children aboard the Titanic\n",
    "- ticket = Ticket number\n",
    "- fare = Passenger fare\n",
    "- cabin = Cabin number\n",
    "- embarked (Port of Embarkation) -> C = Cherbourg, Q = Queenstown, S = Southampton\n",
    "\n",
    "### Variable Notes\n",
    "\n",
    "pclass: A proxy for socio-economic status (SES)\n",
    "\n",
    "1st = Upper\n",
    "2nd = Middle\n",
    "3rd = Lower\n",
    "\n",
    "age: Age is fractional if less than 1. If the age is estimated, is it in the form of xx.5\n",
    "\n",
    "sibsp: The dataset defines family relations in this way...\n",
    "Sibling = brother, sister, stepbrother, stepsister\n",
    "Spouse = husband, wife (mistresses and fiancés were ignored)\n",
    "\n",
    "parch: The dataset defines family relations in this way...\n",
    "Parent = mother, father\n",
    "Child = daughter, son, stepdaughter, stepson\n",
    "Some children travelled only with a nanny, therefore parch=0 for them."
   ]
  },
  {
   "cell_type": "markdown",
   "metadata": {},
   "source": [
    "## Data visualisation and exploration\n",
    "\n",
    "Start by looking at NAN values and Catagorical columns."
   ]
  },
  {
   "cell_type": "code",
   "execution_count": 3,
   "metadata": {
    "execution": {
     "iopub.execute_input": "2021-06-06T13:15:25.220049Z",
     "iopub.status.busy": "2021-06-06T13:15:25.219636Z",
     "iopub.status.idle": "2021-06-06T13:15:25.230803Z",
     "shell.execute_reply": "2021-06-06T13:15:25.229501Z",
     "shell.execute_reply.started": "2021-06-06T13:15:25.219892Z"
    }
   },
   "outputs": [
    {
     "data": {
      "text/plain": [
       "PassengerId      0\n",
       "Survived         0\n",
       "Pclass           0\n",
       "Name             0\n",
       "Sex              0\n",
       "Age            177\n",
       "SibSp            0\n",
       "Parch            0\n",
       "Ticket           0\n",
       "Fare             0\n",
       "Cabin          687\n",
       "Embarked         2\n",
       "train_sets       0\n",
       "dtype: int64"
      ]
     },
     "execution_count": 3,
     "metadata": {},
     "output_type": "execute_result"
    }
   ],
   "source": [
    "train_data.isnull().sum()"
   ]
  },
  {
   "cell_type": "markdown",
   "metadata": {},
   "source": [
    "Age can probably be imputed with the median value. Cabin and embarked are a bit more difficult to deal with. We can potentially use NAN values as a separate type.\n",
    "\n",
    "Now we will look at unique value counts for categorical data. Want to avoid using onehot-encoding if high cardinality."
   ]
  },
  {
   "cell_type": "code",
   "execution_count": 4,
   "metadata": {
    "execution": {
     "iopub.execute_input": "2021-06-06T13:15:25.233637Z",
     "iopub.status.busy": "2021-06-06T13:15:25.233126Z",
     "iopub.status.idle": "2021-06-06T13:15:25.253318Z",
     "shell.execute_reply": "2021-06-06T13:15:25.252085Z",
     "shell.execute_reply.started": "2021-06-06T13:15:25.23359Z"
    }
   },
   "outputs": [
    {
     "data": {
      "text/plain": [
       "{'Name': 891, 'Sex': 2, 'Ticket': 681, 'Cabin': 147, 'Embarked': 3}"
      ]
     },
     "execution_count": 4,
     "metadata": {},
     "output_type": "execute_result"
    }
   ],
   "source": [
    "categorical_cols = [col for col in train_data.columns if train_data[col].dtypes == object]\n",
    "counts = list(map(lambda col: train_data[col].nunique(), categorical_cols))\n",
    "d = dict(zip(categorical_cols, counts))\n",
    "d"
   ]
  },
  {
   "cell_type": "markdown",
   "metadata": {},
   "source": [
    "- Name: name title may be useful but will drop to simplify for now\n",
    "- Sex: can map to numeric\n",
    "- Ticket number has a lot of unique values and potentially contains useful information though difficult to use without more information\n",
    "- Cabin also has a lot of unique values consisting of Letter + number. The letter possibly contains significant information\n",
    "- Embarked - can be mapped to numeric/onehotencoded"
   ]
  },
  {
   "cell_type": "markdown",
   "metadata": {},
   "source": [
    "***Drop passengerId and ticket number columns***"
   ]
  },
  {
   "cell_type": "code",
   "execution_count": 5,
   "metadata": {
    "execution": {
     "iopub.execute_input": "2021-06-06T13:32:42.384668Z",
     "iopub.status.busy": "2021-06-06T13:32:42.384291Z",
     "iopub.status.idle": "2021-06-06T13:32:42.393254Z",
     "shell.execute_reply": "2021-06-06T13:32:42.392262Z",
     "shell.execute_reply.started": "2021-06-06T13:32:42.384635Z"
    }
   },
   "outputs": [
    {
     "data": {
      "text/plain": [
       "Index(['Survived', 'Pclass', 'Name', 'Sex', 'Age', 'SibSp', 'Parch', 'Fare',\n",
       "       'Cabin', 'Embarked', 'train_sets'],\n",
       "      dtype='object')"
      ]
     },
     "execution_count": 5,
     "metadata": {},
     "output_type": "execute_result"
    }
   ],
   "source": [
    "tdata_copy = train_data.drop(['PassengerId', 'Ticket'], axis = 1)\n",
    "tdata_copy.columns"
   ]
  },
  {
   "cell_type": "markdown",
   "metadata": {},
   "source": [
    "Before cleaning, lets visualise some of the data"
   ]
  },
  {
   "cell_type": "code",
   "execution_count": 6,
   "metadata": {
    "execution": {
     "iopub.execute_input": "2021-06-06T13:15:25.267062Z",
     "iopub.status.busy": "2021-06-06T13:15:25.266624Z",
     "iopub.status.idle": "2021-06-06T13:15:25.847962Z",
     "shell.execute_reply": "2021-06-06T13:15:25.84692Z",
     "shell.execute_reply.started": "2021-06-06T13:15:25.267018Z"
    }
   },
   "outputs": [
    {
     "data": {
      "text/plain": [
       "<AxesSubplot:>"
      ]
     },
     "execution_count": 6,
     "metadata": {},
     "output_type": "execute_result"
    },
    {
     "data": {
      "image/png": "[encoded data removed]",
      "text/plain": [
       "<Figure size 432x432 with 2 Axes>"
      ]
     },
     "metadata": {},
     "output_type": "display_data"
    }
   ],
   "source": [
    "# check correlations\n",
    "\n",
    "corr_matrix = tdata_copy.corr()\n",
    "plt.figure(figsize = (6, 6))\n",
    "sns.heatmap(corr_matrix, annot=True)"
   ]
  },
  {
   "cell_type": "code",
   "execution_count": 7,
   "metadata": {
    "execution": {
     "iopub.execute_input": "2021-06-06T13:15:25.850113Z",
     "iopub.status.busy": "2021-06-06T13:15:25.849506Z",
     "iopub.status.idle": "2021-06-06T13:15:27.230196Z",
     "shell.execute_reply": "2021-06-06T13:15:27.229331Z",
     "shell.execute_reply.started": "2021-06-06T13:15:25.850062Z"
    }
   },
   "outputs": [
    {
     "data": {
      "text/plain": [
       "array([[<AxesSubplot:title={'center':'Survived'}>,\n",
       "        <AxesSubplot:title={'center':'Pclass'}>,\n",
       "        <AxesSubplot:title={'center':'Age'}>],\n",
       "       [<AxesSubplot:title={'center':'SibSp'}>,\n",
       "        <AxesSubplot:title={'center':'Parch'}>,\n",
       "        <AxesSubplot:title={'center':'Fare'}>],\n",
       "       [<AxesSubplot:title={'center':'train_sets'}>, <AxesSubplot:>,\n",
       "        <AxesSubplot:>]], dtype=object)"
      ]
     },
     "execution_count": 7,
     "metadata": {},
     "output_type": "execute_result"
    },
    {
     "data": {
      "image/png": "[encoded data removed]",
      "text/plain": [
       "<Figure size 576x576 with 9 Axes>"
      ]
     },
     "metadata": {},
     "output_type": "display_data"
    }
   ],
   "source": [
    "tdata_copy.hist(bins=10, figsize = (8, 8))"
   ]
  },
  {
   "cell_type": "markdown",
   "metadata": {},
   "source": [
    "We can consider normalising some of these distributions"
   ]
  },
  {
   "cell_type": "code",
   "execution_count": 8,
   "metadata": {
    "execution": {
     "iopub.execute_input": "2021-06-06T13:15:27.231997Z",
     "iopub.status.busy": "2021-06-06T13:15:27.231494Z",
     "iopub.status.idle": "2021-06-06T13:15:27.723008Z",
     "shell.execute_reply": "2021-06-06T13:15:27.722121Z",
     "shell.execute_reply.started": "2021-06-06T13:15:27.231963Z"
    }
   },
   "outputs": [
    {
     "data": {
      "text/plain": [
       "<seaborn.axisgrid.FacetGrid at 0x7fe2c462f130>"
      ]
     },
     "execution_count": 8,
     "metadata": {},
     "output_type": "execute_result"
    },
    {
     "data": {
      "image/png": "[encoded data removed]",
      "text/plain": [
       "<Figure size 415.55x360 with 1 Axes>"
      ]
     },
     "metadata": {},
     "output_type": "display_data"
    }
   ],
   "source": [
    "sns.displot(data=tdata_copy, x=\"Sex\", hue=\"Survived\", multiple=\"stack\")"
   ]
  },
  {
   "cell_type": "markdown",
   "metadata": {},
   "source": [
    "Proportion of males that survived much lower than that of females\n"
   ]
  },
  {
   "cell_type": "code",
   "execution_count": 9,
   "metadata": {
    "execution": {
     "iopub.execute_input": "2021-06-06T13:15:27.725757Z",
     "iopub.status.busy": "2021-06-06T13:15:27.725433Z",
     "iopub.status.idle": "2021-06-06T13:15:28.590625Z",
     "shell.execute_reply": "2021-06-06T13:15:28.589392Z",
     "shell.execute_reply.started": "2021-06-06T13:15:27.725724Z"
    }
   },
   "outputs": [
    {
     "data": {
      "text/plain": [
       "<AxesSubplot:xlabel='Sex', ylabel='Age'>"
      ]
     },
     "execution_count": 9,
     "metadata": {},
     "output_type": "execute_result"
    },
    {
     "data": {
      "image/png": "[encoded data removed]",
      "text/plain": [
       "<Figure size 432x288 with 1 Axes>"
      ]
     },
     "metadata": {},
     "output_type": "display_data"
    }
   ],
   "source": [
    "sns.swarmplot(x=tdata_copy['Sex'], y=tdata_copy['Age'], hue=tdata_copy['Survived'], size=4)"
   ]
  },
  {
   "cell_type": "markdown",
   "metadata": {},
   "source": [
    "Younger males (<15) are likely to survive.\n",
    "\n",
    "Lets look at how class influences survival rate."
   ]
  },
  {
   "cell_type": "code",
   "execution_count": 10,
   "metadata": {
    "execution": {
     "iopub.execute_input": "2021-06-06T13:15:28.592852Z",
     "iopub.status.busy": "2021-06-06T13:15:28.592438Z",
     "iopub.status.idle": "2021-06-06T13:15:28.623018Z",
     "shell.execute_reply": "2021-06-06T13:15:28.622117Z",
     "shell.execute_reply.started": "2021-06-06T13:15:28.592807Z"
    }
   },
   "outputs": [
    {
     "data": {
      "text/html": [
       "<div>\n",
       "<style scoped>\n",
       "    .dataframe tbody tr th:only-of-type {\n",
       "        vertical-align: middle;\n",
       "    }\n",
       "\n",
       "    .dataframe tbody tr th {\n",
       "        vertical-align: top;\n",
       "    }\n",
       "\n",
       "    .dataframe thead th {\n",
       "        text-align: right;\n",
       "    }\n",
       "</style>\n",
       "<table border=\"1\" class=\"dataframe\">\n",
       "  <thead>\n",
       "    <tr style=\"text-align: right;\">\n",
       "      <th>Sex</th>\n",
       "      <th>female</th>\n",
       "      <th>male</th>\n",
       "    </tr>\n",
       "    <tr>\n",
       "      <th>Pclass</th>\n",
       "      <th></th>\n",
       "      <th></th>\n",
       "    </tr>\n",
       "  </thead>\n",
       "  <tbody>\n",
       "    <tr>\n",
       "      <th>1</th>\n",
       "      <td>0.968085</td>\n",
       "      <td>0.368852</td>\n",
       "    </tr>\n",
       "    <tr>\n",
       "      <th>2</th>\n",
       "      <td>0.921053</td>\n",
       "      <td>0.157407</td>\n",
       "    </tr>\n",
       "    <tr>\n",
       "      <th>3</th>\n",
       "      <td>0.500000</td>\n",
       "      <td>0.135447</td>\n",
       "    </tr>\n",
       "  </tbody>\n",
       "</table>\n",
       "</div>"
      ],
      "text/plain": [
       "Sex       female      male\n",
       "Pclass                    \n",
       "1       0.968085  0.368852\n",
       "2       0.921053  0.157407\n",
       "3       0.500000  0.135447"
      ]
     },
     "execution_count": 10,
     "metadata": {},
     "output_type": "execute_result"
    }
   ],
   "source": [
    "tdata_copy.pivot_table('Survived','Pclass', 'Sex')"
   ]
  },
  {
   "cell_type": "markdown",
   "metadata": {},
   "source": [
    "Look at Parch and SibSp with survival rate"
   ]
  },
  {
   "cell_type": "code",
   "execution_count": 11,
   "metadata": {
    "execution": {
     "iopub.execute_input": "2021-06-06T13:15:28.624866Z",
     "iopub.status.busy": "2021-06-06T13:15:28.624544Z",
     "iopub.status.idle": "2021-06-06T13:15:30.11622Z",
     "shell.execute_reply": "2021-06-06T13:15:30.11523Z",
     "shell.execute_reply.started": "2021-06-06T13:15:28.624833Z"
    }
   },
   "outputs": [
    {
     "data": {
      "text/plain": [
       "<seaborn.axisgrid.FacetGrid at 0x7fe2c4d892e0>"
      ]
     },
     "execution_count": 11,
     "metadata": {},
     "output_type": "execute_result"
    },
    {
     "data": {
      "image/png": "[encoded data removed]",
      "text/plain": [
       "<Figure size 415.55x360 with 1 Axes>"
      ]
     },
     "metadata": {},
     "output_type": "display_data"
    },
    {
     "data": {
      "image/png": "[encoded data removed]",
      "text/plain": [
       "<Figure size 415.55x360 with 1 Axes>"
      ]
     },
     "metadata": {},
     "output_type": "display_data"
    }
   ],
   "source": [
    "sns.displot(x=tdata_copy['Parch'], hue=tdata_copy['Survived'], multiple=\"dodge\")\n",
    "sns.displot(x=tdata_copy['SibSp'], hue=tdata_copy['Survived'], multiple=\"dodge\")"
   ]
  },
  {
   "cell_type": "markdown",
   "metadata": {},
   "source": [
    "Now we will clean the cabin category:\n",
    "\n",
    "    - Check if multiple cabins associated with person\n",
    "    - create new columns specifying numer (multiple cabins)\n",
    "    - create new feature from letter associated with cabin -> in this case only take the first letter \n",
    "   "
   ]
  },
  {
   "cell_type": "code",
   "execution_count": 12,
   "metadata": {
    "execution": {
     "iopub.execute_input": "2021-06-06T13:15:30.11781Z",
     "iopub.status.busy": "2021-06-06T13:15:30.117507Z",
     "iopub.status.idle": "2021-06-06T13:15:30.728551Z",
     "shell.execute_reply": "2021-06-06T13:15:30.727643Z",
     "shell.execute_reply.started": "2021-06-06T13:15:30.117778Z"
    }
   },
   "outputs": [
    {
     "data": {
      "text/plain": [
       "<seaborn.axisgrid.FacetGrid at 0x7fe2c4cf5970>"
      ]
     },
     "execution_count": 12,
     "metadata": {},
     "output_type": "execute_result"
    },
    {
     "data": {
      "image/png": "[encoded data removed]",
      "text/plain": [
       "<Figure size 415.55x360 with 1 Axes>"
      ]
     },
     "metadata": {},
     "output_type": "display_data"
    }
   ],
   "source": [
    "tdata_copy['multiple cabins'] = tdata_copy['Cabin'].apply(lambda x: 0 if pd.isna(x) else len(x.split(' ')))\n",
    "tdata_copy['multiple cabins'].value_counts()\n",
    "tdata_copy['cabin letter'] = tdata_copy['Cabin'].fillna('N').apply(lambda x: x.strip()[0])\n",
    "tdata_copy['cabin letter'].value_counts()\n",
    "sns.displot(x=tdata_copy['cabin letter'], hue=tdata_copy['Survived'], multiple=\"dodge\")"
   ]
  },
  {
   "cell_type": "markdown",
   "metadata": {},
   "source": [
    "Lets look at titles in the name"
   ]
  },
  {
   "cell_type": "code",
   "execution_count": 13,
   "metadata": {
    "execution": {
     "iopub.execute_input": "2021-06-06T13:38:38.101549Z",
     "iopub.status.busy": "2021-06-06T13:38:38.101077Z",
     "iopub.status.idle": "2021-06-06T13:38:38.113559Z",
     "shell.execute_reply": "2021-06-06T13:38:38.112648Z",
     "shell.execute_reply.started": "2021-06-06T13:38:38.101508Z"
    }
   },
   "outputs": [
    {
     "data": {
      "text/plain": [
       " Mr              517\n",
       " Miss            182\n",
       " Mrs             125\n",
       " Master           40\n",
       " Dr                7\n",
       " Rev               6\n",
       " Col               2\n",
       " Major             2\n",
       " Mlle              2\n",
       " Jonkheer          1\n",
       " Don               1\n",
       " the Countess      1\n",
       " Mme               1\n",
       " Capt              1\n",
       " Sir               1\n",
       " Lady              1\n",
       " Ms                1\n",
       "Name: title, dtype: int64"
      ]
     },
     "execution_count": 13,
     "metadata": {},
     "output_type": "execute_result"
    }
   ],
   "source": [
    "tdata_copy['title'] = tdata_copy['Name'].apply(lambda x: x.strip().split(',')[1].split('.')[0])\n",
    "tdata_copy['title'].value_counts()"
   ]
  },
  {
   "cell_type": "markdown",
   "metadata": {},
   "source": [
    "### Data preprocessing for model\n",
    "\n",
    "    - Drop embarked null values (2 instances)\n",
    "    - Drop name, passenger id, ticket\n",
    "    \n",
    "##### Numeric: \n",
    "\n",
    "    - impute fare and age null values with median \n",
    "    - log transfrom fare to get closer to normal distribution\n",
    "    - scale numerical values using standard scaler\n",
    "\n",
    "    \n",
    "##### Categorical:\n",
    "    \n",
    "    - Apply transformations as above (split cabin column..)\n",
    "    - One hot encode values\n",
    "    - Do not include original cabin values in encoding.\n",
    "    \n",
    " "
   ]
  },
  {
   "cell_type": "code",
   "execution_count": 14,
   "metadata": {
    "execution": {
     "iopub.execute_input": "2021-06-06T13:40:24.23607Z",
     "iopub.status.busy": "2021-06-06T13:40:24.235525Z",
     "iopub.status.idle": "2021-06-06T13:40:24.305314Z",
     "shell.execute_reply": "2021-06-06T13:40:24.304238Z",
     "shell.execute_reply.started": "2021-06-06T13:40:24.236025Z"
    }
   },
   "outputs": [],
   "source": [
    "# create copy and drop some columns/rows\n",
    "\n",
    "data_copy = data.copy()\n",
    "data_copy.dropna(subset= ['Embarked'], inplace = True)\n",
    "data_copy.drop(['PassengerId', 'Ticket'], axis = 1, inplace = True)\n",
    "\n",
    "# impute nulls with medians\n",
    "\n",
    "data_copy.Fare.fillna(train_data.Fare.median(), inplace = True)\n",
    "data_copy.Age.fillna(train_data.Age.median(), inplace = True)\n",
    "\n",
    "# log transform\n",
    "\n",
    "data_copy['logFare'] = np.log(data_copy['Fare'] + 1)\n",
    "data_copy.drop('Fare', axis = 1, inplace=True)\n",
    "\n",
    "# we can consider log scaling Parch and SibSp also\n",
    "\n",
    "# Transform cabin variable\n",
    "data_copy['multiple cabins'] = data_copy['Cabin'].apply(lambda x: 0 if pd.isna(x) else len(x.split(' ')))\n",
    "data_copy['cabin letter'] = data_copy['Cabin'].fillna('N').apply(lambda x: x.strip()[0])\n",
    "\n",
    "# Transform name\n",
    "\n",
    "data_copy['title'] = data_copy['Name'].apply(lambda x: x.strip().split(',')[1].split('.')[0])\n",
    "data_copy['title'].value_counts()\n",
    "\n",
    "# drop cabin and name col\n",
    "\n",
    "data_copy.drop('Cabin', axis = 1, inplace = True)\n",
    "data_copy.drop('Name', axis = 1, inplace = True)\n",
    "\n",
    "\n",
    "# map sex to 0 1\n",
    "\n",
    "data_copy['Sex'] = data_copy['Sex'].map({'male':0, 'female':1})\n",
    "\n",
    "# Columns for transformation\n",
    "\n",
    "categorical_cols = ['Embarked', 'cabin letter', 'title']\n",
    "numeric_cols = ['Pclass', 'Age', 'SibSp', 'Parch', 'logFare', 'multiple cabins']\n",
    "\n",
    "# Transform numeric types\n",
    "\n",
    "from sklearn.preprocessing import StandardScaler\n",
    "\n",
    "scaler = StandardScaler()\n",
    "\n",
    "data_copy[numeric_cols] = scaler.fit_transform(data_copy[numeric_cols])\n",
    "\n",
    "# Transform categorical types\n",
    "\n",
    "all_dummy = pd.get_dummies(data_copy[['Pclass', 'Age', 'SibSp', 'Parch', 'logFare', 'multiple cabins', 'Embarked', 'cabin letter', 'title']])\n",
    "\n",
    "# Split data into train and test\n",
    "all_dummy['train_sets'] = data_copy['train_sets']\n",
    "X_train = all_dummy.loc[all_dummy.train_sets == 1].drop('train_sets', axis = 1)\n",
    "X_test = all_dummy.loc[all_dummy.train_sets == 0].drop('train_sets', axis = 1)\n",
    "\n",
    "y_train = data_copy[['Survived', 'train_sets']][data_copy['train_sets'] == 1].drop('train_sets', axis = 1)\n",
    "y_test = data_copy[['Survived', 'train_sets']][data_copy['train_sets'] == 0].drop('train_sets', axis = 1)"
   ]
  },
  {
   "cell_type": "markdown",
   "metadata": {},
   "source": [
    "## Model Building\n",
    "\n",
    "Perform 3 fold cross validation on 5 different models:\n",
    "\n",
    "    - Random Forest\n",
    "    - Naive Bayes\n",
    "    - KNN Classifier\n",
    "    - Logistic Regression\n",
    "    - XGBoost"
   ]
  },
  {
   "cell_type": "code",
   "execution_count": 15,
   "metadata": {
    "execution": {
     "iopub.status.busy": "2021-06-06T13:15:30.816632Z",
     "iopub.status.idle": "2021-06-06T13:15:30.817108Z"
    }
   },
   "outputs": [],
   "source": [
    "from sklearn.model_selection import cross_val_score\n",
    "from sklearn.naive_bayes import GaussianNB\n",
    "from sklearn.linear_model import LogisticRegression\n",
    "from sklearn.neighbors import KNeighborsClassifier\n",
    "from sklearn.ensemble import RandomForestClassifier\n"
   ]
  },
  {
   "cell_type": "code",
   "execution_count": 16,
   "metadata": {
    "execution": {
     "iopub.execute_input": "2021-06-06T13:41:44.55636Z",
     "iopub.status.busy": "2021-06-06T13:41:44.555984Z",
     "iopub.status.idle": "2021-06-06T13:41:44.69063Z",
     "shell.execute_reply": "2021-06-06T13:41:44.689413Z",
     "shell.execute_reply.started": "2021-06-06T13:41:44.556323Z"
    }
   },
   "outputs": [
    {
     "name": "stdout",
     "output_type": "stream",
     "text": [
      "[0.8013468  0.81418919 0.84797297]\n",
      "0.8211696545029877\n"
     ]
    }
   ],
   "source": [
    "logit = LogisticRegression(max_iter = 4000)\n",
    "scoreLR = cross_val_score(logit, X_train, y_train.values.ravel(), cv=3)\n",
    "print(scoreLR)\n",
    "print(scoreLR.mean())"
   ]
  },
  {
   "cell_type": "code",
   "execution_count": 17,
   "metadata": {
    "execution": {
     "iopub.execute_input": "2021-06-06T13:41:47.579124Z",
     "iopub.status.busy": "2021-06-06T13:41:47.578783Z",
     "iopub.status.idle": "2021-06-06T13:41:47.610671Z",
     "shell.execute_reply": "2021-06-06T13:41:47.609304Z",
     "shell.execute_reply.started": "2021-06-06T13:41:47.579094Z"
    }
   },
   "outputs": [
    {
     "name": "stdout",
     "output_type": "stream",
     "text": [
      "[0.65656566 0.75337838 0.77364865]\n",
      "0.7278642278642279\n"
     ]
    }
   ],
   "source": [
    "nbay = GaussianNB()\n",
    "scorenb = cross_val_score(nbay, X_train, y_train.values.ravel(), cv=3)\n",
    "print(scorenb)\n",
    "print(scorenb.mean())"
   ]
  },
  {
   "cell_type": "code",
   "execution_count": 18,
   "metadata": {
    "execution": {
     "iopub.execute_input": "2021-06-06T13:41:49.941332Z",
     "iopub.status.busy": "2021-06-06T13:41:49.940969Z",
     "iopub.status.idle": "2021-06-06T13:41:50.064621Z",
     "shell.execute_reply": "2021-06-06T13:41:50.063213Z",
     "shell.execute_reply.started": "2021-06-06T13:41:49.9413Z"
    }
   },
   "outputs": [
    {
     "name": "stdout",
     "output_type": "stream",
     "text": [
      "[0.76430976 0.81081081 0.82432432]\n",
      "0.7998149664816333\n"
     ]
    }
   ],
   "source": [
    "knn = KNeighborsClassifier()\n",
    "knn_cv = cross_val_score(knn,X_train,y_train.values.ravel(),cv=3)\n",
    "print(knn_cv)\n",
    "print(knn_cv.mean())"
   ]
  },
  {
   "cell_type": "code",
   "execution_count": 19,
   "metadata": {
    "execution": {
     "iopub.execute_input": "2021-06-06T13:41:51.774097Z",
     "iopub.status.busy": "2021-06-06T13:41:51.773744Z",
     "iopub.status.idle": "2021-06-06T13:41:52.493294Z",
     "shell.execute_reply": "2021-06-06T13:41:52.49218Z",
     "shell.execute_reply.started": "2021-06-06T13:41:51.774066Z"
    }
   },
   "outputs": [
    {
     "name": "stdout",
     "output_type": "stream",
     "text": [
      "[0.77441077 0.80743243 0.80067568]\n",
      "0.7941729608396275\n"
     ]
    }
   ],
   "source": [
    "rf = RandomForestClassifier(random_state = 1)\n",
    "rf_cv = cross_val_score(rf,X_train,y_train.values.ravel(),cv=3)\n",
    "print(rf_cv)\n",
    "print(rf_cv.mean())"
   ]
  },
  {
   "cell_type": "markdown",
   "metadata": {},
   "source": [
    "## Parameter Tuning\n",
    "\n",
    "- Use grid search to optimise paramters"
   ]
  },
  {
   "cell_type": "code",
   "execution_count": 20,
   "metadata": {
    "execution": {
     "iopub.execute_input": "2021-06-06T14:12:10.992622Z",
     "iopub.status.busy": "2021-06-06T14:12:10.992268Z",
     "iopub.status.idle": "2021-06-06T14:12:12.693595Z",
     "shell.execute_reply": "2021-06-06T14:12:12.69098Z",
     "shell.execute_reply.started": "2021-06-06T14:12:10.992591Z"
    }
   },
   "outputs": [
    {
     "name": "stdout",
     "output_type": "stream",
     "text": [
      "Fitting 5 folds for each of 10 candidates, totalling 50 fits\n",
      "0.8245477051990097\n",
      "{'C': 0.5, 'max_iter': 2000}\n"
     ]
    }
   ],
   "source": [
    "from sklearn.model_selection import GridSearchCV \n",
    "\n",
    "lr = LogisticRegression()\n",
    "params = {'max_iter' : [2000, 4000],\n",
    "              'C' : [0.01, 0.05, 0.1, 0.5, 1]}\n",
    "\n",
    "clf_lr = GridSearchCV(lr, param_grid = params, cv = 5, verbose = 1)\n",
    "best_clf_lr = clf_lr.fit(X_train,y_train.values.ravel())\n",
    "print(best_clf_lr.best_score_)\n",
    "print(best_clf_lr.best_params_)"
   ]
  },
  {
   "cell_type": "code",
   "execution_count": 21,
   "metadata": {
    "execution": {
     "iopub.execute_input": "2021-06-06T14:07:37.394195Z",
     "iopub.status.busy": "2021-06-06T14:07:37.39381Z",
     "iopub.status.idle": "2021-06-06T14:07:42.06111Z",
     "shell.execute_reply": "2021-06-06T14:07:42.060087Z",
     "shell.execute_reply.started": "2021-06-06T14:07:37.394137Z"
    }
   },
   "outputs": [
    {
     "name": "stdout",
     "output_type": "stream",
     "text": [
      "Fitting 5 folds for each of 48 candidates, totalling 240 fits\n"
     ]
    },
    {
     "data": {
      "text/plain": [
       "0.8177997841680948"
      ]
     },
     "execution_count": 21,
     "metadata": {},
     "output_type": "execute_result"
    }
   ],
   "source": [
    "knn = KNeighborsClassifier()\n",
    "params = {'n_neighbors' : [3,5,7,9],\n",
    "              'weights' : ['uniform', 'distance'],\n",
    "              'algorithm' : ['auto', 'ball_tree','kd_tree'],\n",
    "              'p' : [1,2]}\n",
    "clf_knn = GridSearchCV(knn, param_grid = params, cv = 5, verbose = 1)\n",
    "best_clf_knn = clf_knn.fit(X_train, y_train.values.ravel())\n",
    "best_clf_knn.best_score_"
   ]
  },
  {
   "cell_type": "code",
   "execution_count": 22,
   "metadata": {
    "execution": {
     "iopub.execute_input": "2021-06-06T14:23:07.450317Z",
     "iopub.status.busy": "2021-06-06T14:23:07.449836Z",
     "iopub.status.idle": "2021-06-06T14:23:12.129691Z",
     "shell.execute_reply": "2021-06-06T14:23:12.128756Z",
     "shell.execute_reply.started": "2021-06-06T14:23:07.450277Z"
    }
   },
   "outputs": [
    {
     "name": "stdout",
     "output_type": "stream",
     "text": [
      "Fitting 5 folds for each of 48 candidates, totalling 240 fits\n"
     ]
    },
    {
     "data": {
      "text/plain": [
       "0.8177997841680948"
      ]
     },
     "execution_count": 22,
     "metadata": {},
     "output_type": "execute_result"
    }
   ],
   "source": [
    "rf = RandomForestClassifier()\n",
    "params = [\n",
    " {'n_estimators': [3, 10, 30], 'max_features': [2, 4, 6, 8]},\n",
    " {'bootstrap': [False], 'n_estimators': [3, 10], 'max_features': [2, 3, 4]},\n",
    "]\n",
    "rf_clf = GridSearchCV(knn, param_grid = params, cv = 5, verbose = 1)\n",
    "best_clf_rf = clf_knn.fit(X_train, y_train.values.ravel())\n",
    "best_clf_rf.best_score_"
   ]
  },
  {
   "cell_type": "code",
   "execution_count": 23,
   "metadata": {
    "execution": {
     "iopub.execute_input": "2021-06-06T14:34:20.606877Z",
     "iopub.status.busy": "2021-06-06T14:34:20.606547Z",
     "iopub.status.idle": "2021-06-06T14:34:22.343872Z",
     "shell.execute_reply": "2021-06-06T14:34:22.342721Z",
     "shell.execute_reply.started": "2021-06-06T14:34:20.606845Z"
    }
   },
   "outputs": [
    {
     "name": "stdout",
     "output_type": "stream",
     "text": [
      "Fitting 5 folds for each of 10 candidates, totalling 50 fits\n",
      "Your submission was successfully saved!\n"
     ]
    }
   ],
   "source": [
    "best_clf_lr.fit(X_train, y_train.values.ravel())\n",
    "final_model = best_clf_lr.best_estimator_\n",
    "final_model.fit(X_train, y_train.values.ravel())\n",
    "y_pred = best_clf_lr.predict(X_test)\n",
    "\n",
    "output = pd.DataFrame({'PassengerId': test_data.PassengerId, 'Survived': y_pred.astype(int)})\n",
    "output.to_csv('my_submission3.csv', index=False)\n",
    "print(\"Your submission was successfully saved!\")"
   ]
  },
  {
   "cell_type": "code",
   "execution_count": null,
   "metadata": {},
   "outputs": [],
   "source": []
  },
  {
   "cell_type": "code",
   "execution_count": null,
   "metadata": {},
   "outputs": [],
   "source": []
  },
  {
   "cell_type": "code",
   "execution_count": null,
   "metadata": {},
   "outputs": [],
   "source": []
  }
 ],
 "metadata": {
  "kernelspec": {
   "display_name": "Python 3",
   "language": "python",
   "name": "python3"
  },
  "language_info": {
   "codemirror_mode": {
    "name": "ipython",
    "version": 3
   },
   "file_extension": ".py",
   "mimetype": "text/x-python",
   "name": "python",
   "nbconvert_exporter": "python",
   "pygments_lexer": "ipython3",
   "version": "3.8.3"
  }
 },
 "nbformat": 4,
 "nbformat_minor": 4
}
